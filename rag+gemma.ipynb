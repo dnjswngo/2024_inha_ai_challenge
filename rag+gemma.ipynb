{
  "cells": [
    {
      "cell_type": "code",
      "execution_count": null,
      "id": "5cb514e0-cbc8-4c88-85c4-dc10a04227c1",
      "metadata": {
        "id": "5cb514e0-cbc8-4c88-85c4-dc10a04227c1"
      },
      "outputs": [],
      "source": [
        "import os\n",
        "import json\n",
        "import numpy as np\n",
        "import pandas as pd\n",
        "import re\n",
        "import string\n",
        "from collections import Counter\n",
        "from tqdm import tqdm\n",
        "from peft import LoraConfig\n",
        "\n",
        "\n",
        "import torch\n",
        "from transformers import (\n",
        "    pipeline,\n",
        "    AutoTokenizer,\n",
        "    AutoModelForCausalLM,\n",
        "    BitsAndBytesConfig,\n",
        "    TrainingArguments,\n",
        "Gemma2ForCausalLM\n",
        ")\n",
        "from trl import SFTTrainer\n",
        "from datasets import load_dataset, Dataset, DatasetDict\n",
        "from accelerate import Accelerator\n",
        "import peft\n",
        "from langchain.llms import HuggingFacePipeline"
      ]
    },
    {
      "cell_type": "code",
      "execution_count": null,
      "id": "tYHB0LpIWXPZ",
      "metadata": {
        "id": "tYHB0LpIWXPZ"
      },
      "outputs": [],
      "source": [
        "from transformers import AutoTokenizer, AutoModelForCausalLM, pipeline\n",
        "from langchain.llms import HuggingFacePipeline\n",
        "from langchain.embeddings import HuggingFaceEmbeddings\n",
        "from langchain.vectorstores import FAISS\n",
        "from langchain.text_splitter import RecursiveCharacterTextSplitter\n",
        "from langchain.chains import RetrievalQA"
      ]
    },
    {
      "cell_type": "code",
      "execution_count": null,
      "id": "2c0bd378-160a-4550-86fe-e093ad418072",
      "metadata": {
        "id": "2c0bd378-160a-4550-86fe-e093ad418072"
      },
      "outputs": [],
      "source": [
        "# #QLoRA\n",
        "# lora_config = LoraConfig(\n",
        "#     r=6,#멀티헤드어텐션 헤드 개수\n",
        "#     lora_alpha = 8, #어텐션 계수 스케일\n",
        "#     lora_dropout = 0.05, #드롭아웃 비율\n",
        "#     target_modules=[\"q_proj\", \"o_proj\", \"k_proj\", \"v_proj\", \"gate_proj\", \"up_proj\", \"down_proj\"],\n",
        "#     task_type=\"CAUSAL_LM\",\n",
        "# )\n",
        "\n",
        "# bnb_config = BitsAndBytesConfig(\n",
        "#     load_in_4bit=True,\n",
        "#     bnb_4bit_quant_type=\"nf4\",\n",
        "#     bnb_4bit_compute_dtype=torch.float16\n",
        "# )"
      ]
    },
    {
      "cell_type": "code",
      "execution_count": null,
      "id": "9dba56b9-fc3c-48f2-8a50-1a1ff1143008",
      "metadata": {
        "colab": {
          "base_uri": "https://localhost:8080/",
          "height": 178,
          "referenced_widgets": [
            "84a5945634ea4221aad7102f99e46285",
            "cd5dffa6e1c842a584181ea109484a4f",
            "6d60e8579c584069b846535927c513c2",
            "580273875ebf4f8e820ebfa0d23fd59d",
            "619f5e2097594b98a537ff3b77e7512a",
            "a284719cca904fc8ac2155f3af06f574",
            "a55e16ca2bc6478f8f2b827134b97c11",
            "0cfc8eb1e2f04e67ba6104d3ecf8c85a",
            "0eedc8f7fb0b49a9a5893e31a5120c45",
            "82560d1ccb9744f7814a2754fae8d448",
            "452eadd66ada4de3b3a85267d12ca576"
          ]
        },
        "id": "9dba56b9-fc3c-48f2-8a50-1a1ff1143008",
        "outputId": "44ee289b-d6d6-4c84-f21c-6b348b11ab40"
      },
      "outputs": [],
      "source": [
        "model_id = \"google/gemma-2-2b-it\"\n",
        "\n",
        "os.environ[\"HF_TOKEN\"] = \"\"\n",
        "\n",
        "model = AutoModelForCausalLM.from_pretrained(\n",
        "    model_id,\n",
        "    torch_dtype=\"auto\",\n",
        "    device_map=\"auto\",\n",
        "    trust_remote_code=True,\n",
        "    token=os.environ[\"HF_TOKEN\"]\n",
        ")\n",
        "\n",
        "\n",
        "\n",
        "# 토크나이저 로드\n",
        "tokenizer = AutoTokenizer.from_pretrained(\n",
        "    model_id,\n",
        "    trust_remote_code=True\n",
        ")\n",
        "tokenizer.use_default_system_prompt = False"
      ]
    },
    {
      "cell_type": "code",
      "execution_count": null,
      "id": "IcZaIpdzVvhh",
      "metadata": {
        "colab": {
          "base_uri": "https://localhost:8080/"
        },
        "id": "IcZaIpdzVvhh",
        "outputId": "d2a5a40d-606a-4003-c12b-90866a286de7"
      },
      "outputs": [],
      "source": [
        "pipe = pipeline(\n",
        "    \"text-generation\",\n",
        "    model=model,\n",
        "    tokenizer=tokenizer,\n",
        "    max_new_tokens=512,\n",
        "    do_sample=True,\n",
        "    temperature=0.7,\n",
        "    top_p=0.95,\n",
        "    repetition_penalty=1.1\n",
        ")\n",
        "\n",
        "# ✅ 3. LangChain LLM wrapper\n",
        "llm = HuggingFacePipeline(pipeline=pipe)"
      ]
    },
    {
      "cell_type": "code",
      "execution_count": null,
      "id": "YiEWGt-pWdep",
      "metadata": {
        "id": "YiEWGt-pWdep"
      },
      "outputs": [],
      "source": [
        "# 벡터 임베딩 및 검색\n",
        "embedding_model = HuggingFaceEmbeddings(model_name=\"sentence-transformers/all-MiniLM-L6-v2\")\n",
        "text_splitter = RecursiveCharacterTextSplitter(chunk_size=500, chunk_overlap=100)"
      ]
    },
    {
      "cell_type": "markdown",
      "id": "vKAxXc3UWywW",
      "metadata": {
        "id": "vKAxXc3UWywW"
      },
      "source": [
        "### 데이터 부르기"
      ]
    },
    {
      "cell_type": "code",
      "execution_count": null,
      "id": "TARe5W5AU_jN",
      "metadata": {
        "id": "TARe5W5AU_jN"
      },
      "outputs": [],
      "source": [
        "import zipfile\n",
        "\n",
        "with zipfile.ZipFile('open (1).zip', 'r') as zip_ref:\n",
        "    zip_ref.extractall('data')\n"
      ]
    },
    {
      "cell_type": "code",
      "execution_count": null,
      "id": "RpdpbAh5VI2V",
      "metadata": {
        "colab": {
          "base_uri": "https://localhost:8080/",
          "height": 218
        },
        "id": "RpdpbAh5VI2V",
        "outputId": "fb029a69-6ec8-4696-838e-80b6fd673fd0"
      },
      "outputs": [],
      "source": [
        "file_path = 'data/test.csv'\n",
        "test_data = pd.read_csv(file_path)\n",
        "\n",
        "df = test_data.sample(frac=1).reset_index(drop=True)\n",
        "\n",
        "df['context'][0]"
      ]
    },
    {
      "cell_type": "code",
      "execution_count": null,
      "id": "SpmYBIWDXDlA",
      "metadata": {
        "colab": {
          "base_uri": "https://localhost:8080/",
          "height": 423
        },
        "id": "SpmYBIWDXDlA",
        "outputId": "17cfa057-c3f4-4709-f4ba-5a495eb06bad"
      },
      "outputs": [],
      "source": [
        "df"
      ]
    },
    {
      "cell_type": "code",
      "execution_count": null,
      "id": "pPf0wSatW9zc",
      "metadata": {
        "id": "pPf0wSatW9zc"
      },
      "outputs": [],
      "source": [
        "generated_answers = []\n",
        "true_answers = []\n",
        "\n",
        "prompt_template = \"\"\"<start_of_turn>user\n",
        "다음은 뉴스 기사입니다. 기사를 잘 읽고, 질문에 단답형으로 정확하게 답해주세요.\n",
        "\n",
        "기사:\n",
        "{context}\n",
        "\n",
        "질문:\n",
        "{question}\n",
        "\n",
        "답변은 한두 단어로 간결하게 해주세요.\n",
        "<end_of_turn>\n",
        "<start_of_turn>model\n",
        "\"\"\"\n",
        "\n",
        "\n",
        "for idx, row in df.iterrows():\n",
        "    article = row[\"context\"]\n",
        "    question = row[\"question\"]\n",
        "    qid = row[\"id\"]\n",
        "\n",
        "    # 문서 쪼개기 & 벡터화\n",
        "    docs = text_splitter.create_documents([article])\n",
        "    vectordb = FAISS.from_documents(docs, embedding_model)\n",
        "\n",
        "    # QA 체인 구성\n",
        "    qa_chain = RetrievalQA.from_chain_type(\n",
        "        llm=llm,\n",
        "        retriever=vectordb.as_retriever(),\n",
        "        return_source_documents=False\n",
        "    )\n",
        "\n",
        "    # 프롬프트 생성\n",
        "    prompt = prompt_template.format(context=article, question=question)\n",
        "\n",
        "    try:\n",
        "        response = qa_chain({\"query\": prompt})\n",
        "        generated = response[\"result\"].strip()\n",
        "    except Exception as e:\n",
        "        print(f\"Error at index {idx} (ID: {qid}): {e}\")\n",
        "        generated = \"\"\n",
        "\n",
        "    generated_answers.append((qid, generated))\n",
        "\n",
        "\n",
        "# for pred, true in zip(generated_answers, true_answers):\n",
        "#     if pred.strip() == true.strip():\n",
        "#         correct += 1\n",
        "\n",
        "# accuracy = correct / total\n",
        "# print(f\"\\n전체 문항 수: {total}\")\n",
        "# print(f\"맞춘갯수: {correct}\")\n",
        "# print(f\" Exact Match Accuracy: {round(accuracy * 100, 2)}%\")"
      ]
    },
    {
      "cell_type": "code",
      "execution_count": null,
      "id": "CBzUYq6wZFtV",
      "metadata": {
        "id": "CBzUYq6wZFtV"
      },
      "outputs": [],
      "source": [
        "submission_df = pd.DataFrame(generated_answers, columns=[\"id\", \"answer\"])\n",
        "submission_df.to_csv(\"data/submission_pure_rag.csv\", index=False, encoding=\"utf-8-sig\")"
      ]
    }
  ],
  "metadata": {
    "accelerator": "GPU",
    "colab": {
      "gpuType": "T4",
      "provenance": []
    },
    "kernelspec": {
      "display_name": "Python 3",
      "name": "python3"
    },
    "language_info": {
      "codemirror_mode": {
        "name": "ipython",
        "version": 3
      },
      "file_extension": ".py",
      "mimetype": "text/x-python",
      "name": "python",
      "nbconvert_exporter": "python",
      "pygments_lexer": "ipython3",
      "version": "3.11.4"
    },
    "widgets": {
      "application/vnd.jupyter.widget-state+json": {
        "0cfc8eb1e2f04e67ba6104d3ecf8c85a": {
          "model_module": "@jupyter-widgets/base",
          "model_module_version": "1.2.0",
          "model_name": "LayoutModel",
          "state": {
            "_model_module": "@jupyter-widgets/base",
            "_model_module_version": "1.2.0",
            "_model_name": "LayoutModel",
            "_view_count": null,
            "_view_module": "@jupyter-widgets/base",
            "_view_module_version": "1.2.0",
            "_view_name": "LayoutView",
            "align_content": null,
            "align_items": null,
            "align_self": null,
            "border": null,
            "bottom": null,
            "display": null,
            "flex": null,
            "flex_flow": null,
            "grid_area": null,
            "grid_auto_columns": null,
            "grid_auto_flow": null,
            "grid_auto_rows": null,
            "grid_column": null,
            "grid_gap": null,
            "grid_row": null,
            "grid_template_areas": null,
            "grid_template_columns": null,
            "grid_template_rows": null,
            "height": null,
            "justify_content": null,
            "justify_items": null,
            "left": null,
            "margin": null,
            "max_height": null,
            "max_width": null,
            "min_height": null,
            "min_width": null,
            "object_fit": null,
            "object_position": null,
            "order": null,
            "overflow": null,
            "overflow_x": null,
            "overflow_y": null,
            "padding": null,
            "right": null,
            "top": null,
            "visibility": null,
            "width": null
          }
        },
        "0eedc8f7fb0b49a9a5893e31a5120c45": {
          "model_module": "@jupyter-widgets/controls",
          "model_module_version": "1.5.0",
          "model_name": "ProgressStyleModel",
          "state": {
            "_model_module": "@jupyter-widgets/controls",
            "_model_module_version": "1.5.0",
            "_model_name": "ProgressStyleModel",
            "_view_count": null,
            "_view_module": "@jupyter-widgets/base",
            "_view_module_version": "1.2.0",
            "_view_name": "StyleView",
            "bar_color": null,
            "description_width": ""
          }
        },
        "452eadd66ada4de3b3a85267d12ca576": {
          "model_module": "@jupyter-widgets/controls",
          "model_module_version": "1.5.0",
          "model_name": "DescriptionStyleModel",
          "state": {
            "_model_module": "@jupyter-widgets/controls",
            "_model_module_version": "1.5.0",
            "_model_name": "DescriptionStyleModel",
            "_view_count": null,
            "_view_module": "@jupyter-widgets/base",
            "_view_module_version": "1.2.0",
            "_view_name": "StyleView",
            "description_width": ""
          }
        },
        "580273875ebf4f8e820ebfa0d23fd59d": {
          "model_module": "@jupyter-widgets/controls",
          "model_module_version": "1.5.0",
          "model_name": "HTMLModel",
          "state": {
            "_dom_classes": [],
            "_model_module": "@jupyter-widgets/controls",
            "_model_module_version": "1.5.0",
            "_model_name": "HTMLModel",
            "_view_count": null,
            "_view_module": "@jupyter-widgets/controls",
            "_view_module_version": "1.5.0",
            "_view_name": "HTMLView",
            "description": "",
            "description_tooltip": null,
            "layout": "IPY_MODEL_82560d1ccb9744f7814a2754fae8d448",
            "placeholder": "​",
            "style": "IPY_MODEL_452eadd66ada4de3b3a85267d12ca576",
            "value": " 2/2 [00:10&lt;00:00,  4.62s/it]"
          }
        },
        "619f5e2097594b98a537ff3b77e7512a": {
          "model_module": "@jupyter-widgets/base",
          "model_module_version": "1.2.0",
          "model_name": "LayoutModel",
          "state": {
            "_model_module": "@jupyter-widgets/base",
            "_model_module_version": "1.2.0",
            "_model_name": "LayoutModel",
            "_view_count": null,
            "_view_module": "@jupyter-widgets/base",
            "_view_module_version": "1.2.0",
            "_view_name": "LayoutView",
            "align_content": null,
            "align_items": null,
            "align_self": null,
            "border": null,
            "bottom": null,
            "display": null,
            "flex": null,
            "flex_flow": null,
            "grid_area": null,
            "grid_auto_columns": null,
            "grid_auto_flow": null,
            "grid_auto_rows": null,
            "grid_column": null,
            "grid_gap": null,
            "grid_row": null,
            "grid_template_areas": null,
            "grid_template_columns": null,
            "grid_template_rows": null,
            "height": null,
            "justify_content": null,
            "justify_items": null,
            "left": null,
            "margin": null,
            "max_height": null,
            "max_width": null,
            "min_height": null,
            "min_width": null,
            "object_fit": null,
            "object_position": null,
            "order": null,
            "overflow": null,
            "overflow_x": null,
            "overflow_y": null,
            "padding": null,
            "right": null,
            "top": null,
            "visibility": null,
            "width": null
          }
        },
        "6d60e8579c584069b846535927c513c2": {
          "model_module": "@jupyter-widgets/controls",
          "model_module_version": "1.5.0",
          "model_name": "FloatProgressModel",
          "state": {
            "_dom_classes": [],
            "_model_module": "@jupyter-widgets/controls",
            "_model_module_version": "1.5.0",
            "_model_name": "FloatProgressModel",
            "_view_count": null,
            "_view_module": "@jupyter-widgets/controls",
            "_view_module_version": "1.5.0",
            "_view_name": "ProgressView",
            "bar_style": "success",
            "description": "",
            "description_tooltip": null,
            "layout": "IPY_MODEL_0cfc8eb1e2f04e67ba6104d3ecf8c85a",
            "max": 2,
            "min": 0,
            "orientation": "horizontal",
            "style": "IPY_MODEL_0eedc8f7fb0b49a9a5893e31a5120c45",
            "value": 2
          }
        },
        "82560d1ccb9744f7814a2754fae8d448": {
          "model_module": "@jupyter-widgets/base",
          "model_module_version": "1.2.0",
          "model_name": "LayoutModel",
          "state": {
            "_model_module": "@jupyter-widgets/base",
            "_model_module_version": "1.2.0",
            "_model_name": "LayoutModel",
            "_view_count": null,
            "_view_module": "@jupyter-widgets/base",
            "_view_module_version": "1.2.0",
            "_view_name": "LayoutView",
            "align_content": null,
            "align_items": null,
            "align_self": null,
            "border": null,
            "bottom": null,
            "display": null,
            "flex": null,
            "flex_flow": null,
            "grid_area": null,
            "grid_auto_columns": null,
            "grid_auto_flow": null,
            "grid_auto_rows": null,
            "grid_column": null,
            "grid_gap": null,
            "grid_row": null,
            "grid_template_areas": null,
            "grid_template_columns": null,
            "grid_template_rows": null,
            "height": null,
            "justify_content": null,
            "justify_items": null,
            "left": null,
            "margin": null,
            "max_height": null,
            "max_width": null,
            "min_height": null,
            "min_width": null,
            "object_fit": null,
            "object_position": null,
            "order": null,
            "overflow": null,
            "overflow_x": null,
            "overflow_y": null,
            "padding": null,
            "right": null,
            "top": null,
            "visibility": null,
            "width": null
          }
        },
        "84a5945634ea4221aad7102f99e46285": {
          "model_module": "@jupyter-widgets/controls",
          "model_module_version": "1.5.0",
          "model_name": "HBoxModel",
          "state": {
            "_dom_classes": [],
            "_model_module": "@jupyter-widgets/controls",
            "_model_module_version": "1.5.0",
            "_model_name": "HBoxModel",
            "_view_count": null,
            "_view_module": "@jupyter-widgets/controls",
            "_view_module_version": "1.5.0",
            "_view_name": "HBoxView",
            "box_style": "",
            "children": [
              "IPY_MODEL_cd5dffa6e1c842a584181ea109484a4f",
              "IPY_MODEL_6d60e8579c584069b846535927c513c2",
              "IPY_MODEL_580273875ebf4f8e820ebfa0d23fd59d"
            ],
            "layout": "IPY_MODEL_619f5e2097594b98a537ff3b77e7512a"
          }
        },
        "a284719cca904fc8ac2155f3af06f574": {
          "model_module": "@jupyter-widgets/base",
          "model_module_version": "1.2.0",
          "model_name": "LayoutModel",
          "state": {
            "_model_module": "@jupyter-widgets/base",
            "_model_module_version": "1.2.0",
            "_model_name": "LayoutModel",
            "_view_count": null,
            "_view_module": "@jupyter-widgets/base",
            "_view_module_version": "1.2.0",
            "_view_name": "LayoutView",
            "align_content": null,
            "align_items": null,
            "align_self": null,
            "border": null,
            "bottom": null,
            "display": null,
            "flex": null,
            "flex_flow": null,
            "grid_area": null,
            "grid_auto_columns": null,
            "grid_auto_flow": null,
            "grid_auto_rows": null,
            "grid_column": null,
            "grid_gap": null,
            "grid_row": null,
            "grid_template_areas": null,
            "grid_template_columns": null,
            "grid_template_rows": null,
            "height": null,
            "justify_content": null,
            "justify_items": null,
            "left": null,
            "margin": null,
            "max_height": null,
            "max_width": null,
            "min_height": null,
            "min_width": null,
            "object_fit": null,
            "object_position": null,
            "order": null,
            "overflow": null,
            "overflow_x": null,
            "overflow_y": null,
            "padding": null,
            "right": null,
            "top": null,
            "visibility": null,
            "width": null
          }
        },
        "a55e16ca2bc6478f8f2b827134b97c11": {
          "model_module": "@jupyter-widgets/controls",
          "model_module_version": "1.5.0",
          "model_name": "DescriptionStyleModel",
          "state": {
            "_model_module": "@jupyter-widgets/controls",
            "_model_module_version": "1.5.0",
            "_model_name": "DescriptionStyleModel",
            "_view_count": null,
            "_view_module": "@jupyter-widgets/base",
            "_view_module_version": "1.2.0",
            "_view_name": "StyleView",
            "description_width": ""
          }
        },
        "cd5dffa6e1c842a584181ea109484a4f": {
          "model_module": "@jupyter-widgets/controls",
          "model_module_version": "1.5.0",
          "model_name": "HTMLModel",
          "state": {
            "_dom_classes": [],
            "_model_module": "@jupyter-widgets/controls",
            "_model_module_version": "1.5.0",
            "_model_name": "HTMLModel",
            "_view_count": null,
            "_view_module": "@jupyter-widgets/controls",
            "_view_module_version": "1.5.0",
            "_view_name": "HTMLView",
            "description": "",
            "description_tooltip": null,
            "layout": "IPY_MODEL_a284719cca904fc8ac2155f3af06f574",
            "placeholder": "​",
            "style": "IPY_MODEL_a55e16ca2bc6478f8f2b827134b97c11",
            "value": "Loading checkpoint shards: 100%"
          }
        }
      }
    }
  },
  "nbformat": 4,
  "nbformat_minor": 5
}
